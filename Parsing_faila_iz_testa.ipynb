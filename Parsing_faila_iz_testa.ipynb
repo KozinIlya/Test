{
  "nbformat": 4,
  "nbformat_minor": 0,
  "metadata": {
    "colab": {
      "name": "Untitled18.ipynb",
      "provenance": [],
      "authorship_tag": "ABX9TyM7Ih7SaXbuSGq6bjyRr+6c",
      "include_colab_link": true
    },
    "kernelspec": {
      "name": "python3",
      "display_name": "Python 3"
    },
    "language_info": {
      "name": "python"
    }
  },
  "cells": [
    {
      "cell_type": "markdown",
      "metadata": {
        "id": "view-in-github",
        "colab_type": "text"
      },
      "source": [
        "<a href=\"https://colab.research.google.com/github/KozinIlya/Test-Study/blob/main/Parsing_faila_iz_testa.ipynb\" target=\"_parent\"><img src=\"https://colab.research.google.com/assets/colab-badge.svg\" alt=\"Open In Colab\"/></a>"
      ]
    },
    {
      "cell_type": "code",
      "execution_count": null,
      "metadata": {
        "id": "bKp20mBaSn0p"
      },
      "outputs": [],
      "source": [
        "! gdown --id '1p85_X6bIyREdlSoa8uxNadWtyEkxbhez'"
      ]
    },
    {
      "cell_type": "code",
      "source": [
        "import pandas as pd\n",
        "import numpy as np\n",
        "from tqdm import tqdm\n",
        "import json\n"
      ],
      "metadata": {
        "id": "oWJO-xPKTUsB"
      },
      "execution_count": 2,
      "outputs": []
    },
    {
      "cell_type": "code",
      "source": [
        "df = pd.read_csv('/content/us events ad_revenue filtered 03.02-07.02.csv')"
      ],
      "metadata": {
        "id": "gYejv-NtTkKz"
      },
      "execution_count": 3,
      "outputs": []
    },
    {
      "cell_type": "code",
      "source": [
        "df.head()"
      ],
      "metadata": {
        "id": "X4e7WM5_UCOp"
      },
      "execution_count": null,
      "outputs": []
    },
    {
      "cell_type": "code",
      "source": [
        "df_pars = pd.io.json.json_normalize(df.event_json.apply(json.loads))"
      ],
      "metadata": {
        "colab": {
          "base_uri": "https://localhost:8080/"
        },
        "id": "PFxLE9K7tfkO",
        "outputId": "fe38ed37-5561-47d8-fd29-ee3fb07198da"
      },
      "execution_count": 5,
      "outputs": [
        {
          "output_type": "stream",
          "name": "stderr",
          "text": [
            "/usr/local/lib/python3.7/dist-packages/ipykernel_launcher.py:1: FutureWarning: pandas.io.json.json_normalize is deprecated, use pandas.json_normalize instead\n",
            "  \"\"\"Entry point for launching an IPython kernel.\n"
          ]
        }
      ]
    },
    {
      "cell_type": "code",
      "source": [
        "sammary = pd.merge(df, df_pars, left_index=True, right_index=True)\n",
        "sammary.drop(['event_json'], axis='columns', inplace=True)\n",
        "sammary.head()\n"
      ],
      "metadata": {
        "id": "F7RWqpaEvQxf"
      },
      "execution_count": null,
      "outputs": []
    },
    {
      "cell_type": "code",
      "source": [
        "sammary = sammary.drop(columns=['device_model','device_type','device_locale',\n",
        "                       'event_name','connection_type','country_iso_code'\n",
        "                       ])\n",
        "sammary = sammary.dropna(subset=['profile_id'])                           #удаляем строки без ID\n",
        "sammary.operator_name.unique()"
      ],
      "metadata": {
        "id": "XNOGpUG1-Sm5"
      },
      "execution_count": null,
      "outputs": []
    },
    {
      "cell_type": "code",
      "source": [
        "sammary\n"
      ],
      "metadata": {
        "id": "UGFUk5OQAWKA"
      },
      "execution_count": null,
      "outputs": []
    }
  ]
}