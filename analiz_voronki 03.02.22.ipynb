{
  "nbformat": 4,
  "nbformat_minor": 0,
  "metadata": {
    "colab": {
      "name": "analiz_voronki.ipynb",
      "provenance": [],
      "collapsed_sections": [],
      "authorship_tag": "ABX9TyPd4YDOfNX96cCxXUlxafB0",
      "include_colab_link": true
    },
    "kernelspec": {
      "name": "python3",
      "display_name": "Python 3"
    },
    "language_info": {
      "name": "python"
    }
  },
  "cells": [
    {
      "cell_type": "markdown",
      "metadata": {
        "id": "view-in-github",
        "colab_type": "text"
      },
      "source": [
        "<a href=\"https://colab.research.google.com/github/KozinIlya/Test-Study/blob/main/analiz_voronki%2003.02.22.ipynb\" target=\"_parent\"><img src=\"https://colab.research.google.com/assets/colab-badge.svg\" alt=\"Open In Colab\"/></a>"
      ]
    },
    {
      "cell_type": "markdown",
      "metadata": {
        "id": "fciVkmnRZXBI"
      },
      "source": [
        "1. Проверить, отличается ли время прохождения различных этапов для пользователей, которые прошли обучение,\n",
        " от пользователей, не начинавших обучение. Насколько обучение сокращает время прохождения этапов?\n",
        "\n",
        "2. Посмотреть, существует ли зависимость между вероятностью оплаты вопросов и количеством обучений,которые начинал\n",
        " или завершал пользователь. Нужно доказать, что успешное обучение само по себе влияет на оплату, и без разницы, каким этапом оно шло.\n",
        "\n",
        "3. Дополнительная задача. Как часто пользователи начинают обучение после того, как они выбрали уровень сложности? \n",
        " Это позволит нам понять, насколько прозрачен процесс взаимодействия с игрой: если пользователи после выбора уровня\n",
        " сложности обращаются к обучению, значит, работа с приложением непонятна."
      ]
    },
    {
      "cell_type": "code",
      "metadata": {
        "id": "HV1xD_sGYDVC",
        "colab": {
          "resources": {
            "http://localhost:8080/nbextensions/google.colab/files.js": {
              "data": "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",
              "ok": true,
              "headers": [
                [
                  "content-type",
                  "application/javascript"
                ]
              ],
              "status": 200,
              "status_text": ""
            }
          },
          "base_uri": "https://localhost:8080/",
          "height": 350
        },
        "outputId": "01f25586-9f18-4132-afd1-4cfff7e03976"
      },
      "source": [
        "from google.colab import files\n",
        "uploaded = files.upload()"
      ],
      "execution_count": 1,
      "outputs": [
        {
          "output_type": "display_data",
          "data": {
            "text/plain": [
              "<IPython.core.display.HTML object>"
            ],
            "text/html": [
              "\n",
              "     <input type=\"file\" id=\"files-aa021244-8dc9-4b48-8100-0580d69d1149\" name=\"files[]\" multiple disabled\n",
              "        style=\"border:none\" />\n",
              "     <output id=\"result-aa021244-8dc9-4b48-8100-0580d69d1149\">\n",
              "      Upload widget is only available when the cell has been executed in the\n",
              "      current browser session. Please rerun this cell to enable.\n",
              "      </output>\n",
              "      <script src=\"/nbextensions/google.colab/files.js\"></script> "
            ]
          },
          "metadata": {}
        },
        {
          "output_type": "error",
          "ename": "KeyboardInterrupt",
          "evalue": "ignored",
          "traceback": [
            "\u001b[0;31m---------------------------------------------------------------------------\u001b[0m",
            "\u001b[0;31mKeyboardInterrupt\u001b[0m                         Traceback (most recent call last)",
            "\u001b[0;32m<ipython-input-1-21dc3c638f66>\u001b[0m in \u001b[0;36m<module>\u001b[0;34m()\u001b[0m\n\u001b[1;32m      1\u001b[0m \u001b[0;32mfrom\u001b[0m \u001b[0mgoogle\u001b[0m\u001b[0;34m.\u001b[0m\u001b[0mcolab\u001b[0m \u001b[0;32mimport\u001b[0m \u001b[0mfiles\u001b[0m\u001b[0;34m\u001b[0m\u001b[0;34m\u001b[0m\u001b[0m\n\u001b[0;32m----> 2\u001b[0;31m \u001b[0muploaded\u001b[0m \u001b[0;34m=\u001b[0m \u001b[0mfiles\u001b[0m\u001b[0;34m.\u001b[0m\u001b[0mupload\u001b[0m\u001b[0;34m(\u001b[0m\u001b[0;34m)\u001b[0m\u001b[0;34m\u001b[0m\u001b[0;34m\u001b[0m\u001b[0m\n\u001b[0m",
            "\u001b[0;32m/usr/local/lib/python3.7/dist-packages/google/colab/files.py\u001b[0m in \u001b[0;36mupload\u001b[0;34m()\u001b[0m\n\u001b[1;32m     39\u001b[0m   \"\"\"\n\u001b[1;32m     40\u001b[0m \u001b[0;34m\u001b[0m\u001b[0m\n\u001b[0;32m---> 41\u001b[0;31m   \u001b[0muploaded_files\u001b[0m \u001b[0;34m=\u001b[0m \u001b[0m_upload_files\u001b[0m\u001b[0;34m(\u001b[0m\u001b[0mmultiple\u001b[0m\u001b[0;34m=\u001b[0m\u001b[0;32mTrue\u001b[0m\u001b[0;34m)\u001b[0m\u001b[0;34m\u001b[0m\u001b[0;34m\u001b[0m\u001b[0m\n\u001b[0m\u001b[1;32m     42\u001b[0m   \u001b[0;31m# Mapping from original filename to filename as saved locally.\u001b[0m\u001b[0;34m\u001b[0m\u001b[0;34m\u001b[0m\u001b[0;34m\u001b[0m\u001b[0m\n\u001b[1;32m     43\u001b[0m   \u001b[0mlocal_filenames\u001b[0m \u001b[0;34m=\u001b[0m \u001b[0mdict\u001b[0m\u001b[0;34m(\u001b[0m\u001b[0;34m)\u001b[0m\u001b[0;34m\u001b[0m\u001b[0;34m\u001b[0m\u001b[0m\n",
            "\u001b[0;32m/usr/local/lib/python3.7/dist-packages/google/colab/files.py\u001b[0m in \u001b[0;36m_upload_files\u001b[0;34m(multiple)\u001b[0m\n\u001b[1;32m    116\u001b[0m   result = _output.eval_js(\n\u001b[1;32m    117\u001b[0m       'google.colab._files._uploadFiles(\"{input_id}\", \"{output_id}\")'.format(\n\u001b[0;32m--> 118\u001b[0;31m           input_id=input_id, output_id=output_id))\n\u001b[0m\u001b[1;32m    119\u001b[0m   \u001b[0mfiles\u001b[0m \u001b[0;34m=\u001b[0m \u001b[0m_collections\u001b[0m\u001b[0;34m.\u001b[0m\u001b[0mdefaultdict\u001b[0m\u001b[0;34m(\u001b[0m\u001b[0mbytes\u001b[0m\u001b[0;34m)\u001b[0m\u001b[0;34m\u001b[0m\u001b[0;34m\u001b[0m\u001b[0m\n\u001b[1;32m    120\u001b[0m \u001b[0;34m\u001b[0m\u001b[0m\n",
            "\u001b[0;32m/usr/local/lib/python3.7/dist-packages/google/colab/output/_js.py\u001b[0m in \u001b[0;36meval_js\u001b[0;34m(script, ignore_result, timeout_sec)\u001b[0m\n\u001b[1;32m     38\u001b[0m   \u001b[0;32mif\u001b[0m \u001b[0mignore_result\u001b[0m\u001b[0;34m:\u001b[0m\u001b[0;34m\u001b[0m\u001b[0;34m\u001b[0m\u001b[0m\n\u001b[1;32m     39\u001b[0m     \u001b[0;32mreturn\u001b[0m\u001b[0;34m\u001b[0m\u001b[0;34m\u001b[0m\u001b[0m\n\u001b[0;32m---> 40\u001b[0;31m   \u001b[0;32mreturn\u001b[0m \u001b[0m_message\u001b[0m\u001b[0;34m.\u001b[0m\u001b[0mread_reply_from_input\u001b[0m\u001b[0;34m(\u001b[0m\u001b[0mrequest_id\u001b[0m\u001b[0;34m,\u001b[0m \u001b[0mtimeout_sec\u001b[0m\u001b[0;34m)\u001b[0m\u001b[0;34m\u001b[0m\u001b[0;34m\u001b[0m\u001b[0m\n\u001b[0m\u001b[1;32m     41\u001b[0m \u001b[0;34m\u001b[0m\u001b[0m\n\u001b[1;32m     42\u001b[0m \u001b[0;34m\u001b[0m\u001b[0m\n",
            "\u001b[0;32m/usr/local/lib/python3.7/dist-packages/google/colab/_message.py\u001b[0m in \u001b[0;36mread_reply_from_input\u001b[0;34m(message_id, timeout_sec)\u001b[0m\n\u001b[1;32m     95\u001b[0m     \u001b[0mreply\u001b[0m \u001b[0;34m=\u001b[0m \u001b[0m_read_next_input_message\u001b[0m\u001b[0;34m(\u001b[0m\u001b[0;34m)\u001b[0m\u001b[0;34m\u001b[0m\u001b[0;34m\u001b[0m\u001b[0m\n\u001b[1;32m     96\u001b[0m     \u001b[0;32mif\u001b[0m \u001b[0mreply\u001b[0m \u001b[0;34m==\u001b[0m \u001b[0m_NOT_READY\u001b[0m \u001b[0;32mor\u001b[0m \u001b[0;32mnot\u001b[0m \u001b[0misinstance\u001b[0m\u001b[0;34m(\u001b[0m\u001b[0mreply\u001b[0m\u001b[0;34m,\u001b[0m \u001b[0mdict\u001b[0m\u001b[0;34m)\u001b[0m\u001b[0;34m:\u001b[0m\u001b[0;34m\u001b[0m\u001b[0;34m\u001b[0m\u001b[0m\n\u001b[0;32m---> 97\u001b[0;31m       \u001b[0mtime\u001b[0m\u001b[0;34m.\u001b[0m\u001b[0msleep\u001b[0m\u001b[0;34m(\u001b[0m\u001b[0;36m0.025\u001b[0m\u001b[0;34m)\u001b[0m\u001b[0;34m\u001b[0m\u001b[0;34m\u001b[0m\u001b[0m\n\u001b[0m\u001b[1;32m     98\u001b[0m       \u001b[0;32mcontinue\u001b[0m\u001b[0;34m\u001b[0m\u001b[0;34m\u001b[0m\u001b[0m\n\u001b[1;32m     99\u001b[0m     if (reply.get('type') == 'colab_reply' and\n",
            "\u001b[0;31mKeyboardInterrupt\u001b[0m: "
          ]
        }
      ]
    },
    {
      "cell_type": "code",
      "metadata": {
        "id": "toM3_cbWZyZY"
      },
      "source": [
        "'подгтовка данных для дальнейшего анализа'\n",
        "import pandas as pd\n",
        "import io\n",
        "import matplotlib.pyplot as plt\n",
        "%matplotlib inline\n",
        "import numpy as np\n",
        "\n",
        "df = pd.read_csv(io.StringIO(uploaded['7_4_Events.csv'].decode('utf-8')))\n",
        "cond = (df.start_time>='2018-01-01') & (df.start_time<='2018-12-31') & (df.event_type=='registration')\n",
        "registered = df[cond]['user_id'].to_list()\n",
        "events = df[df.user_id.isin(registered)]                                          #датафрейм событий для пользователей 2018г\n",
        "events.start_time = pd.to_datetime(events.start_time, format='%Y-%m-%dT%H:%M:%S')\n",
        "\n",
        "df1 = pd.read_csv(io.StringIO(uploaded['purchase.csv'].decode('utf-8')))\n",
        "purchase_df = df1[df1.user_id.isin(registered)]                            #датафрейм оплат для пользователей 2018г      \n",
        "purchase_df['event_type'] = 'purchase'\n",
        "purchase_df.event_datetime = pd.to_datetime(purchase_df.event_datetime, format='%Y-%m-%dT%H:%M:%S')\n",
        "\n",
        "events = events.rename(columns={'id':'event_id'})\n",
        "purchase_df = purchase_df.rename(columns={'id':'purchase_id'})\n",
        "\n",
        "ws = events.event_type == 'tutorial_start'\n",
        "wf = events.event_type =='tutorial_finish'\n",
        "start_list = events[ws]['user_id'].to_list()     #список пользователей начинавших обучение\n",
        "dont_start_list = list(set(registered) - set(start_list)) #список пользователей не начинавших обучение\n",
        "finish_list = events[wf]['user_id'].to_list()                 #список пользователей прошедших обучение\n",
        "dont_finish_list = list(set(start_list) - set(finish_list)) #спиок пользователей не завершивших обучение\n"
      ],
      "execution_count": null,
      "outputs": []
    },
    {
      "cell_type": "code",
      "metadata": {
        "id": "ADCexWJYhZ2D"
      },
      "source": [
        "# Гипотеза 1\n",
        "\n",
        "'найти среднее время прохождения этапов'\n",
        "\n",
        "'группа не начавшие обучение'\n",
        "\n",
        "purchase_dont_start = purchase_df[purchase_df.user_id.isin(dont_start_list)]\n",
        "dont_start_reg = events[events.user_id.isin(dont_start_list)][events['event_type'] == 'registration']\n",
        "dont_start_merge = dont_start_reg.merge(purchase_dont_start, on='user_id',how='inner')\n",
        "dont_start_merge['deltatime_purchase'] = (dont_start_merge['event_datetime'] - dont_start_merge['start_time'])/pd.Timedelta('1 hour')\n",
        "dont_start_lc = events[events.user_id.isin(dont_start_list)][events['event_type'] == 'level_choice'].rename(columns={'start_time': 'level_choice_datetime'})\n",
        "dont_start_merge1 = dont_start_reg.merge(dont_start_lc, on='user_id',how='inner')\n",
        "dont_start_merge1['deltatime_level_choice'] = (dont_start_merge1['level_choice_datetime'] - dont_start_merge1['start_time'])/pd.Timedelta('1 hour')\n",
        "dont_start_pc = events[events.user_id.isin(dont_start_list)][events['event_type'] == 'pack_choice'].rename(columns={'start_time': 'pack_choice_datetime'})\n",
        "dont_start_merge2 = dont_start_lc.merge(dont_start_pc, on='user_id',how='inner')\n",
        "dont_start_merge2['deltatime_pack_choice'] = (dont_start_merge2['pack_choice_datetime'] - dont_start_merge2['level_choice_datetime'])/pd.Timedelta('1 hour')\n",
        "dont_start_merge3 = dont_start_pc.merge(purchase_dont_start, on='user_id',how='inner')\n",
        "dont_start_merge3['deltatime_pack_purch'] = (dont_start_merge3['event_datetime'] - dont_start_merge3['pack_choice_datetime'])/pd.Timedelta('1 hour')\n",
        "'группа прошедших обучение'\n",
        "purchase_finish = purchase_df[purchase_df.user_id.isin(finish_list)]\n",
        "finish_reg = events[events.user_id.isin(finish_list)][events['event_type'] == 'registration']\n",
        "finish_merge = finish_reg.merge(purchase_finish, on='user_id',how='inner')\n",
        "finish_merge['deltatime_purchase1'] = (finish_merge['event_datetime'] - finish_merge['start_time'])/pd.Timedelta('1 hour')\n",
        "finish_lc = events[events.user_id.isin(finish_list)][events['event_type'] == 'level_choice'].rename(columns={'start_time': 'level_choice_datetime'})\n",
        "finish_merge1 = finish_reg.merge(finish_lc, on='user_id',how='inner')\n",
        "finish_merge1['deltatime_level_choice1'] = (finish_merge1['level_choice_datetime'] - finish_merge1['start_time'])/pd.Timedelta('1 hour')\n",
        "finish_pc = events[events.user_id.isin(finish_list)][events['event_type'] == 'pack_choice'].rename(columns={'start_time': 'pack_choice_datetime'})\n",
        "finish_merge2 = finish_lc.merge(finish_pc, on='user_id',how='inner')\n",
        "finish_merge2['deltatime_pack_choice1'] = (finish_merge2['pack_choice_datetime'] - finish_merge2['level_choice_datetime'])/pd.Timedelta('1 hour')\n",
        "finish_merge3 = finish_pc.merge(purchase_finish, on='user_id',how='inner')\n",
        "finish_merge3['deltatime_pack_purch1'] = (finish_merge3['event_datetime'] - finish_merge3['pack_choice_datetime'])/pd.Timedelta('1 hour')\n",
        "\n"
      ],
      "execution_count": null,
      "outputs": []
    },
    {
      "cell_type": "code",
      "metadata": {
        "id": "VLcnw-haaLOm"
      },
      "source": [
        "'обьеденить данные для построения графика'\n",
        "\n",
        "not_tutorial_purchase_delta = dont_start_merge[['user_id', 'deltatime_purchase']]\n",
        "not_tutorial_level_choice_delta = dont_start_merge1[['user_id','deltatime_level_choice']]\n",
        "not_tutorial_pack_choice_delta = dont_start_merge2[['user_id','deltatime_pack_choice']]\n",
        "not_tutorial_pack_purch_delta = dont_start_merge3[['user_id','deltatime_pack_purch']]\n",
        "dont_start_users = dont_start_reg.merge(not_tutorial_purchase_delta, on='user_id',how='left').merge(not_tutorial_level_choice_delta, on='user_id',how='left').merge(not_tutorial_pack_choice_delta, on='user_id',how='left').merge(not_tutorial_pack_purch_delta, on='user_id',how='left')\n",
        "\n",
        "tutorial_purchase_delta = finish_merge[['user_id', 'deltatime_purchase1']]\n",
        "tutorial_level_choice_delta = finish_merge1[['user_id','deltatime_level_choice1']]\n",
        "tutorial_pack_choice_delta = finish_merge2[['user_id','deltatime_pack_choice1']]\n",
        "tutorial_pack_purch_delta = finish_merge3[['user_id','deltatime_pack_purch1']]\n",
        "tutorial_users = finish_reg.merge(tutorial_purchase_delta, on='user_id',how='left').merge(tutorial_level_choice_delta, on='user_id',how='left').merge(tutorial_pack_choice_delta, on='user_id',how='left').merge(tutorial_pack_purch_delta, on='user_id',how='left')\n",
        "\n",
        "tu = tutorial_users[['event_type','user_id','deltatime_purchase1','deltatime_level_choice1','deltatime_pack_choice1','deltatime_pack_purch1']]\n",
        "\n",
        "un_df = dont_start_users.merge(tu, on = ('user_id','event_type'), how = 'outer')\n",
        "\n",
        "delta_df = un_df.groupby(by = 'event_type')['deltatime_purchase','deltatime_level_choice','deltatime_pack_choice','deltatime_pack_purch', 'deltatime_purchase1','deltatime_level_choice1','deltatime_pack_choice1','deltatime_pack_purch1'].mean().reset_index()\n",
        "\n",
        "#оформление графика\n",
        "fig = plt.figure()\n",
        "fig, axes = plt.subplots(1, 4, figsize=(19,6))\n",
        "axes[0].bar(x = 1, height = delta_df['deltatime_purchase'], \n",
        "         width=0.1, align = 'edge', label = 'не проходили обучение')\n",
        "axes[0].bar(x = 1, height = delta_df['deltatime_purchase1'], \n",
        "         width=-0.1, align = 'edge', label = 'Прошли обучение')\n",
        "axes[0].set_title('от регистрации до оплаты')\n",
        "axes[0].legend(loc = 3)\n",
        "\n",
        "axes[1].bar(x = 1, height = delta_df['deltatime_level_choice'], \n",
        "         width=0.1, align = 'edge', label = 'Не проходили обучение')\n",
        "axes[1].bar(x = 1, height = delta_df['deltatime_level_choice1'], \n",
        "         width=-0.1, align = 'edge', label = 'Прошли обучение')\n",
        "axes[1].set_title('от регистрации до  уровня сложности')\n",
        "axes[1].legend(loc = 3)\n",
        "axes[2].bar(x = 1, height = delta_df['deltatime_pack_choice'], \n",
        "         width=0.1, align = 'edge', label = 'Не проходили обучение')\n",
        "axes[2].bar(x = 1, height = delta_df['deltatime_pack_choice1'], \n",
        "         width=-0.1, align = 'edge', label = 'Прошли обучение')\n",
        "axes[2].set_title('от уровня сложности до бесплатного пакета')\n",
        "axes[2].legend(loc = 3)\n",
        "axes[3].bar(x = 1, height = delta_df['deltatime_pack_purch'], \n",
        "         width=0.1, align = 'edge', label = 'Не проходили обучение')\n",
        "axes[3].bar(x = 1, height = delta_df['deltatime_pack_purch1'], \n",
        "         width=-0.1, align = 'edge', label = 'Прошли обучение')\n",
        "axes[3].set_title('от бесплатного пакета до оплаты')\n",
        "axes[3].legend(loc = 3)\n",
        "#вывод данных\n",
        "print('                 Сравнение среднего времени затраченного пользователями не проходившими обучения и пользователями закончившими обучение')\n",
        "print('среднее время от регистрации до оплаты для пользователей не начавших обучение:  ', (dont_start_merge['deltatime_purchase'].mean())*(pd.Timedelta('1 hour')))\n",
        "print('среднее время от регистрации до оплаты для пользователей закончивших обучение:  ', (finish_merge['deltatime_purchase1'].mean())*(pd.Timedelta('1 hour')))\n",
        "print()\n",
        "print('среднее время от регистрации до выбора уровня сложности для пользователей не начавших обучение:  ', (dont_start_merge1['deltatime_level_choice'].mean())*(pd.Timedelta('1 hour')))\n",
        "print('среднее время от регистрации до выбора уровня сложности для пользователей прошедших обучение:   ', (finish_merge1['deltatime_level_choice1'].mean())*(pd.Timedelta('1 hour')))\n",
        "print()\n",
        "print('среднее время от выбора уровня сложности до выбора бесплатного пакета для пользователей не начавших обучение:  ', (dont_start_merge2['deltatime_pack_choice'].mean())*(pd.Timedelta('1 hour')))\n",
        "print('среднее время от выбора уровня сложности до выбора бесплатного пакета для пользователей прошедших обучение:   ', (finish_merge2['deltatime_pack_choice1'].mean())*(pd.Timedelta('1 hour')))\n",
        "print()\n",
        "print('среднее время от выбора бесплатного пакета до оплаты для пользователей не начавших обучение:  ', (dont_start_merge3['deltatime_pack_purch'].mean())*(pd.Timedelta('1 hour')))\n",
        "print('среднее время от выбора бесплатного пакета до оплаты для пользователей прошедших обучение:   ', (finish_merge3['deltatime_pack_purch1'].mean())*(pd.Timedelta('1 hour')))\n",
        "percent = (1 - (finish_merge3['deltatime_pack_purch1'].mean()/dont_start_merge3['deltatime_pack_purch'].mean()))\n",
        "print ('сокращение среднего времени, прошедшего от выбора бесплатного пакета до оплаты, у пользователей закончивших обучение:  {:.2%}'.format(percent))\n"
      ],
      "execution_count": null,
      "outputs": []
    },
    {
      "cell_type": "code",
      "metadata": {
        "id": "YoPvm5G1pHYw"
      },
      "source": [
        "# гипотеза 2\n",
        "purchase_users = purchase_df['user_id'].nunique()\n",
        "'прошедшие обучение'\n",
        "purchase_finish_users = purchase_finish['user_id'].nunique()\n",
        "finish_users = events[wf]['user_id'].nunique()\n",
        "pecent_p_f = purchase_finish_users/finish_users\n",
        "print ('процент пользователей совершивших оплату среди прошедших обучение:    {:.2%}'.format(pecent_p_f))\n",
        "\n",
        "'не завершившие обучение'\n",
        "dont_finish_reg = events[events.user_id.isin(dont_finish_list)]['user_id'].nunique()\n",
        "dont_finish_purchase = purchase_df[purchase_df.user_id.isin(dont_finish_list)]['user_id'].nunique()\n",
        "pecent_p_d_f = dont_finish_purchase/dont_finish_reg\n",
        "print ('процент пользователей совершивших оплату среди не завершивших  обучение: {:.2%}'.format(pecent_p_d_f))\n",
        "\n",
        "'не проходившие обучение'\n",
        "purchase_dont_start_users = purchase_dont_start['user_id'].nunique()\n",
        "d_s_users = dont_start_reg['user_id'].nunique()\n",
        "pecent_p_d_s =  purchase_dont_start_users/d_s_users\n",
        "print ('процент пользователей совершивших оплату среди не проходивших обучение: {:.2%}'.format(pecent_p_d_s))\n",
        "\n",
        "print()\n",
        "#Построение графика\n",
        "vals = [purchase_finish_users, purchase_dont_start_users, dont_finish_purchase]\n",
        "labels = [\"прошли\", \"не проходили\", \"не закончили\"]\n",
        "fig, ax = plt.subplots()\n",
        "ax.pie(vals, labels=labels, autopct='%1.1f%%', wedgeprops=dict(width=0.25))\n",
        "ax.axis(\"equal\")\n",
        "ax.set_title('Доля от общего числа пользователей, оплативших пакеты, в зависимости от прохождения обучения')\n"
      ],
      "execution_count": null,
      "outputs": []
    },
    {
      "cell_type": "code",
      "metadata": {
        "id": "QfNLR4bS8U2N"
      },
      "source": [
        "#гипотеза 3\n",
        "#обучение можно проходить несколько раз и возвращаться уже после выбора уровня сложности. Поэтому надо найти время первого выбора уровня(это время когда пользователь первый раз начал играл) и соотнести его со всеми записями времени начала обучения для каждого пользователя.\n",
        "from datetime import timedelta\n",
        "\n",
        "event_start = events[events['event_type'] == 'tutorial_start'].sort_values(by = 'start_time').rename(columns={'start_time':'tutorial_start_time'})\n",
        "event_level = events[events['event_type'] == 'level_choice'].sort_values(by = 'start_time').drop_duplicates(subset=['user_id'], keep='first').rename(columns={'start_time':'level_choice_time'})\n",
        "\n",
        "events_merge = event_start.merge(event_level, on='user_id',how='inner')\n",
        "\n",
        "\n",
        "d = (events_merge['tutorial_start_time'] - events_merge['level_choice_time'])\n",
        "\n",
        "tutorial_start_first = 0\n",
        "level_choice_first = 0\n",
        "for i in d:\n",
        "  s = [i]\n",
        "  for p in s:\n",
        "    k = p.days       # чтобы сравнить deltatime с числом. если значение \"дни\" меньше 0 сначала пользователь начинал обучение а потом выбирал уровень сложности. Если нет-после начала игры пользователь возвращался к обучению.\n",
        "    if k<0:\n",
        "      tutorial_start_first += 1\n",
        "    elif k>=0:\n",
        "      level_choice_first += 1\n",
        "print('количество пользователей, прошедших обучение до выбора уровня сложности:  ', tutorial_start_first)\n",
        "print ('количество пользователей не проходивших обучение:  ', ((events['user_id'].nunique()) - tutorial_start_first))\n",
        "print()\n",
        "print('количество обучений  после начала игры: ', level_choice_first)\n",
        "print()\n",
        "# построение графика\n",
        "vals = [tutorial_start_first, ((events['user_id'].nunique()) - tutorial_start_first),]\n",
        "labels = [\"начинали обучение\", \"не проходили обучение\",]\n",
        "fig, ax = plt.subplots()\n",
        "ax.pie(vals, labels=labels, autopct='%1.1f%%', wedgeprops=dict(width=0.25))\n",
        "ax.axis(\"equal\")\n",
        "ax.set_title('Соотношение числа пользователей ')\n"
      ],
      "execution_count": null,
      "outputs": []
    },
    {
      "cell_type": "code",
      "metadata": {
        "id": "rkpzue_O9XY1"
      },
      "source": [
        ""
      ],
      "execution_count": null,
      "outputs": []
    },
    {
      "cell_type": "markdown",
      "metadata": {
        "id": "Poqm_0-hgenq"
      },
      "source": [
        "**Выводы:**\n",
        "\n",
        "\n",
        "\n",
        "**Гипотеза №1**\n",
        "\n",
        "Обучение сокращает время прохождения всех этапов кроме этапа \"от регистрации до выбора уровня сложности\", но это объясняется тем, что на этом этапе пользователи тратят время на обучение.\n",
        "   Важно что пользователи прошедшие обучение на 11.43% быстрее переходят от бесплатный к платным пакетам.\n",
        "\n",
        "\n",
        "\n",
        "\n",
        "Гипотеза №2\n",
        "\n",
        "  процент пользователей совершивших оплату среди прошедших обучение:    14.13%\n",
        "\n",
        "процент пользователей совершивших оплату среди не завершивших  обучение: 8.15%\n",
        "\n",
        "процент пользователей совершивших оплату среди не проходивших обучение: 0.27%\n",
        "\n",
        "  Среди пользователей приобретавших платные пакеты только 1.4% не проходили обучение. В то время как 90.4% оплативших прошли обучение полностью\n",
        "   Таким образом однозначно можно считать что прохождение обучения положительно влияет на вероятность оплаты.\n",
        "\n",
        "\n",
        "\n",
        "\n",
        "Гипотеза №3\n",
        "\n",
        "  после начала игры пользователи 2792 раз возвращались к обучению. это достаточно большая цифра так как всего обучение прошли 9890 пользователей (пользователей для которых выбор уровня сложности был раньше первого обучения нет)\n",
        "\n",
        "\n",
        "\n",
        "\n",
        "\n",
        "  Общий вывод:\n",
        "\n",
        "  Пользователи прошедшие обучение часто проходят его повторно, а пользователи пропускающие обучение доходят до оплаты только в 0.27% случаев.\n",
        "  \n",
        "   Следует доработать процесс взаимодействия пользователя с игрой. Это позволит увеличить вовлеченность игроков (прежде всего тех, кто предпочитает пропускать процесс обучения), что должно повысит процент пользователей совершающих оплату.  \n",
        "   Для более детального анализа следует проверить отличаются ли время взаимодействия с игрой у пользователей прошедших и непрошедших обучение"
      ]
    }
  ]
}