{
  "nbformat": 4,
  "nbformat_minor": 0,
  "metadata": {
    "colab": {
      "name": "hakaton.ipynb",
      "provenance": [],
      "collapsed_sections": [],
      "authorship_tag": "ABX9TyNo1l63z75sd4qr3IRD8g2Z",
      "include_colab_link": true
    },
    "kernelspec": {
      "name": "python3",
      "display_name": "Python 3"
    },
    "language_info": {
      "name": "python"
    }
  },
  "cells": [
    {
      "cell_type": "markdown",
      "metadata": {
        "id": "view-in-github",
        "colab_type": "text"
      },
      "source": [
        "<a href=\"https://colab.research.google.com/github/KozinIlya/Test-Study/blob/main/hakaton.ipynb\" target=\"_parent\"><img src=\"https://colab.research.google.com/assets/colab-badge.svg\" alt=\"Open In Colab\"/></a>"
      ]
    },
    {
      "cell_type": "markdown",
      "source": [
        "#Предварительная обработка файлов "
      ],
      "metadata": {
        "id": "WiQozLI6blBx"
      }
    },
    {
      "cell_type": "code",
      "execution_count": null,
      "metadata": {
        "id": "yFJ2SJW2jp7V"
      },
      "outputs": [],
      "source": [
        "! gdown --id 1h7ucuKDH0ahS25pOYLxpsTjOG1xslg2e\n",
        "! gdown --id 1HfD8OJxlkk5SACEz3p_012ScKleGwSIr\n",
        "! gdown --id 1X5Y00TiKyG3bX0bsFHSIdo1fLQ6144O0\n",
        "! gdown --id 1EURg5fr_f3h3YbtBfo80Nz8u90xGiJ2q\n",
        "! gdown --id 16VvEOqkii2Meib-13yWgNDg4D1uyk37D\n",
        "! gdown --id 1NrqSLeWIDG0kbfJ9PopDsgZnnzumwZNQ\n",
        "! gdown --id 1XzH10zWZKZ799I7Ello4cjAw8idQNkvA\n",
        "! gdown --id 16mRUk45RQ-hYY2uAYUy1LaHeGxUTUcNC\n",
        "! gdown --id 1-ESbg-8TCZO7xBX0YYi7K5wFOtxOVP_1\n",
        "! gdown --id 1aDBBJAD7OB8NlwA0mGmrHh60ORALkdTY\n",
        "! gdown --id 10VVItq-0AQwKkx55xvEfPPZr-XaDBlUQ\n",
        "! gdown --id 1REBIKcCU3c4fJFrNT4tF5z8-XxwfalpE\n",
        "! gdown --id 1QIxbGEHR0BGzlm3cNtTZ8vXSYRKTRYmT\n",
        "! gdown --id 1K73izS4bv4Zj2CFV5k5l9BSt-FfKP49j\n",
        "! gdown --id 1ek0TqIC5ufvJhwAQPQBY7w5b6spcouV6"
      ]
    },
    {
      "cell_type": "code",
      "source": [
        "import pandas as pd\n",
        "import numpy as np\n",
        "import json\n",
        "from pprint import pprint\n",
        "from tqdm import tqdm\n",
        "from google.colab import drive\n",
        "drive.mount('drive', force_remount=True)"
      ],
      "metadata": {
        "id": "tYht6AlKkfte",
        "colab": {
          "base_uri": "https://localhost:8080/"
        },
        "outputId": "1189fc78-41e8-4621-eb85-f5cca6d814a0"
      },
      "execution_count": 2,
      "outputs": [
        {
          "output_type": "stream",
          "name": "stdout",
          "text": [
            "Mounted at drive\n"
          ]
        }
      ]
    },
    {
      "cell_type": "code",
      "source": [
        "#функция для преобразования json в pandas\n",
        "def parser(i):  \n",
        "  data = [json.loads(line) for line in open(i,'r')] \n",
        "  df = pd.DataFrame(data)\n",
        "  df.drop(['minjustRegNum','logo', 'statusDetail', 'charter', 'minjustStatus','oktmo',\n",
        "         'administrators', 'okpo', 'address', 'successors', 'okogu',\n",
        "         'kpp','addOkved', 'okato', 'okfs','website_punycode','shortName', 'predecessors', \n",
        "          'socialMedia', 'reports','dateOgrn','dateReg'],axis=1,  inplace=True)\n",
        "\n",
        "  return df"
      ],
      "metadata": {
        "id": "5M18H-SFGDYg"
      },
      "execution_count": 3,
      "outputs": []
    },
    {
      "cell_type": "code",
      "source": [
        "files = ['/content/ngo_dump_01.json'\n",
        "         ,'/content/Копия ngo_dump_02.json'\n",
        "         ,'/content/Копия ngo_dump_03.json' \n",
        "         ,'/content/Копия ngo_dump_04.json'\n",
        "         ,'/content/Копия ngo_dump_05.json'\n",
        "         ,'/content/Копия ngo_dump_06.json'\n",
        "         ,'/content/Копия ngo_dump_07.json'\n",
        "         ,'/content/Копия ngo_dump_08.json'\n",
        "         ,'/content/Копия ngo_dump_09.json'\n",
        "         ,'/content/Копия ngo_dump_10.json'\n",
        "         ,'/content/Копия ngo_dump_11.json'\n",
        "         ,'/content/Копия ngo_dump_12.json'\n",
        "         ,'/content/Копия ngo_dump_13.json'\n",
        "         ,'/content/Копия ngo_dump_14.json'\n",
        "         ,'/content/Копия ngo_dump_15.json'\n",
        "         ]"
      ],
      "metadata": {
        "id": "5m1l4Qpa6QYf"
      },
      "execution_count": 4,
      "outputs": []
    },
    {
      "cell_type": "code",
      "source": [
        "from tqdm import tqdm\n",
        "\n",
        "for j, i in tqdm(enumerate(files)):\n",
        "  df = parser(i)\n",
        "  t = str(j)\n",
        "  df.to_csv(t + '.csv')\n",
        "  \n"
      ],
      "metadata": {
        "id": "XDIbTBe0G1rO",
        "colab": {
          "base_uri": "https://localhost:8080/"
        },
        "outputId": "a5204933-c7bb-4489-e1c9-9bc535ceb017"
      },
      "execution_count": 5,
      "outputs": [
        {
          "output_type": "stream",
          "name": "stderr",
          "text": [
            "15it [01:46,  7.08s/it]\n"
          ]
        }
      ]
    },
    {
      "cell_type": "markdown",
      "source": [
        "##Объединение фреймов и распарсивание вложенных JSON-файлов"
      ],
      "metadata": {
        "id": "2aEqiTz20MAW"
      }
    },
    {
      "cell_type": "code",
      "source": [
        "import glob\n",
        "files = glob.glob('*.csv')\n",
        "combined = pd.DataFrame()\n",
        "\n",
        "for file in tqdm(files):\n",
        "    data = pd.read_csv(file)\n",
        "    data['filename'] = file\n",
        "    combined = pd.concat([combined, data], axis=0)\n",
        "combined.head(2)"
      ],
      "metadata": {
        "id": "26k88tJY1ijp"
      },
      "execution_count": null,
      "outputs": []
    },
    {
      "cell_type": "code",
      "source": [
        "import json\n",
        "def inc(s):\n",
        "  if type(s) != float:\n",
        "    json_acceptable_string = s.replace(\"'\",\"\\\"\")\n",
        "    d = json.loads(json_acceptable_string)\n",
        "    return(pd.Series([d['grants']['totalCount'], d['grants']['totalSum'],\n",
        "                      d['fedSubsidies']['totalCount'], d['fedSubsidies']['totalSum'],\n",
        "                      d['contracts44']['totalCount'], d['contracts44']['totalSum'],\n",
        "                      d['contracts223']['totalCount'], d['contracts223']['totalSum'],\n",
        "                      d['contracts94']['totalCount'], d['contracts94']['totalSum']\n",
        "                      ]))\n",
        "  else:\n",
        "    return(pd.Series([\"\"]))\n",
        "def date_(s):\n",
        "  if type(s) != float:\n",
        "     json_acceptable_string = s.replace(\"'\",\"\\\"\")\n",
        "     d = json.loads(json_acceptable_string)\n",
        "     return(pd.Series([d['$date']]))\n",
        "  else:\n",
        "    return(pd.Series([\"\"]))\n",
        "\n",
        "def codes(s):\n",
        "  json_acceptable_string = s.replace(\"'\",\"\\\"\").replace(\"None\", \"\\\"\\\"\")\n",
        "  d = json.loads(json_acceptable_string)\n",
        "  return(pd.Series([d['name'], d['code']]))"
      ],
      "metadata": {
        "id": "SnCJ_tFnkBGM"
      },
      "execution_count": 7,
      "outputs": []
    },
    {
      "cell_type": "code",
      "source": [
        "income = combined['incomeDetail'].apply(inc)\n",
        "income.columns = ['grantsTotalCount', 'grantsTotalSum',\n",
        "                  'fedSubsidiesTotalCount','fedSubsidiesTotalSum',\n",
        "                  'contracts44TotalCount','contracts44TotalSum',\n",
        "                  'contracts223TotalCount','contracts223TotalSum',\n",
        "                  'contracts94TotalCount','contracts94TotalSum'\n",
        "                  ]"
      ],
      "metadata": {
        "id": "taDCnIX3v_Dn"
      },
      "execution_count": 8,
      "outputs": []
    },
    {
      "cell_type": "code",
      "source": [
        "originDate = combined['originDate'].apply(date_)\n",
        "originDate.columns = ['registrDate']"
      ],
      "metadata": {
        "id": "gcp_943va64Q"
      },
      "execution_count": 9,
      "outputs": []
    },
    {
      "cell_type": "code",
      "source": [
        "liquidDate = combined['dateLiquid'].apply(date_)\n",
        "liquidDate.columns = ['liquidDate']\n"
      ],
      "metadata": {
        "id": "sFpB8aLakT5Y"
      },
      "execution_count": 10,
      "outputs": []
    },
    {
      "cell_type": "code",
      "source": [
        "code_okved = combined['mainOkved'].apply(codes)\n",
        "code_okved.columns = ['okvedName', 'okvedCode']\n",
        "\n",
        "\n",
        "opf_codes = combined['opf'].apply(codes)\n",
        "opf_codes.columns = ['opfName', 'opfCode']\n"
      ],
      "metadata": {
        "id": "N5_9fBPToiX1"
      },
      "execution_count": 11,
      "outputs": []
    },
    {
      "cell_type": "code",
      "source": [
        "res_df = pd.concat([combined, income, originDate,opf_codes,code_okved,liquidDate], axis=1)\n",
        "res_df.head(1)\n"
      ],
      "metadata": {
        "id": "ceomLO6c3FkB"
      },
      "execution_count": null,
      "outputs": []
    },
    {
      "cell_type": "code",
      "source": [
        "res = res_df.drop(['incomeDetail','originDate','dateLiquid','mainOkved','opf','Unnamed: 0'], axis=1)\n",
        "res['okvedID'] = res['okvedCode'].str.replace(r'\\D' , '')\n",
        "res['registrDateYear'] = res['registrDate'].str[:4]\n",
        "res['liquidDateYear'] = res['liquidDate'].str[:4]\n",
        "res.head(1)"
      ],
      "metadata": {
        "id": "zqp3kny1CADV"
      },
      "execution_count": null,
      "outputs": []
    },
    {
      "cell_type": "markdown",
      "source": [
        "## Выгрузка обработанных на google-диск"
      ],
      "metadata": {
        "id": "bQBrVjJZ4SyZ"
      }
    },
    {
      "cell_type": "code",
      "source": [
        "#from google.colab import drive\n",
        "#drive.mount('drive',force_remount=True)\n",
        "#res.to_csv('hakaton.csv')\n",
        "#!cp hakaton.csv \"drive/My Drive/\""
      ],
      "metadata": {
        "id": "RtLDNqaZ7HEG"
      },
      "execution_count": 14,
      "outputs": []
    },
    {
      "cell_type": "markdown",
      "source": [
        "#Задание 1 \n",
        "## есть ли зависимость вероятности получения грантов от государства / госконтрактов от региона регистрации организации"
      ],
      "metadata": {
        "id": "HU2peTS90kHa"
      }
    },
    {
      "cell_type": "code",
      "source": [
        "regions_df = res.drop(['ogrn',\n",
        "       'regionCode', 'incomeTotal', 'email', 'website',\n",
        "        'filename','registrDate',\n",
        "        'opfCode',  'liquidDate',\n",
        "       'okvedID'], axis = 1)\n",
        "\n",
        "with_support_df = regions_df[regions_df['grantsTotalCount'] > 0] #оставляем только компании имеющие гранты"
      ],
      "metadata": {
        "id": "4vAzNjy21GJu"
      },
      "execution_count": 16,
      "outputs": []
    },
    {
      "cell_type": "code",
      "source": [
        "#получаем список оквед когда-либо получавших гранты\n",
        "Grants_okvd_list = list(with_support_df.okvedCode.unique())\n"
      ],
      "metadata": {
        "id": "26BIvHfE7huF"
      },
      "execution_count": null,
      "outputs": []
    },
    {
      "cell_type": "code",
      "source": [
        "#Оставляем в основном файле только компании с ОКВЭД, по которым когда-либо получали гранты\n",
        "potent_support_df = regions_df.loc[regions_df['okvedCode'].isin(Grants_okvd_list)]\n"
      ],
      "metadata": {
        "id": "LFFQCfxv_p8-"
      },
      "execution_count": null,
      "outputs": []
    },
    {
      "cell_type": "code",
      "source": [
        "#Функция для разметки получала ли компания грант или нет\n",
        "def bools(s):\n",
        "  if s == 0:\n",
        "    return 'grants_no'\n",
        "  else:\n",
        "    return 'grants_yes'"
      ],
      "metadata": {
        "id": "iBwTSmojI-QJ"
      },
      "execution_count": 19,
      "outputs": []
    },
    {
      "cell_type": "code",
      "source": [
        "potent_support_df['subsidiesTotalCount'] = potent_support_df['grantsTotalCount'] + potent_support_df['fedSubsidiesTotalCount']\n",
        "potent_support_df['grants'] = potent_support_df['subsidiesTotalCount'].apply(bools)\n",
        "potent_support_df.head(1)"
      ],
      "metadata": {
        "id": "qyqS_a7dNG-T"
      },
      "execution_count": null,
      "outputs": []
    },
    {
      "cell_type": "code",
      "source": [
        "pivot_reg = pd.pivot_table(potent_support_df,\n",
        "               index = 'regionName',\n",
        "               columns = 'grants',\n",
        "               values = 'inn',\n",
        "               aggfunc = 'count'\n",
        "               ).reset_index()\n",
        "pivot_reg['total'] = pivot_reg['grants_yes'] + pivot_reg['grants_no']\n",
        "pivot_reg['persent'] = round((pivot_reg['grants_yes'] / pivot_reg['total'] * 100), 2)\n",
        "\n",
        "po_strane = round(((pivot_reg['grants_yes'].sum() / pivot_reg['total'].sum())*100), 2)\n",
        "print(f\"в среднем по стране гранты получают: {po_strane}%\") \n",
        "pivot_reg.sort_values('persent', ascending=False)"
      ],
      "metadata": {
        "id": "bqirGO4uSfBz"
      },
      "execution_count": null,
      "outputs": []
    },
    {
      "cell_type": "markdown",
      "source": [
        "# Задание 3\n",
        "## Проверить, есть ли зависимость вероятности получения грантов от государства / госконтрактов от экономической деятельности"
      ],
      "metadata": {
        "id": "YrQodncFzauG"
      }
    },
    {
      "cell_type": "code",
      "source": [
        "res3 = res.copy()\n",
        "res3.head(2)"
      ],
      "metadata": {
        "id": "tbvDbBdqeYDn"
      },
      "execution_count": null,
      "outputs": []
    },
    {
      "cell_type": "code",
      "source": [
        "def bools1(s):\n",
        "  if s == 0:\n",
        "    return 0\n",
        "  else:\n",
        "    return 1"
      ],
      "metadata": {
        "id": "Bi6yOKUmUD4a"
      },
      "execution_count": 23,
      "outputs": []
    },
    {
      "cell_type": "code",
      "source": [
        "df_3 = res3.drop(['regionName', 'ogrn', 'egrulStatus',\n",
        "       'regionCode', 'email', 'website',\n",
        "       'hasRegionalSupport', 'filename', 'grantsTotalSum',\n",
        "        'fedSubsidiesTotalSum','regionCode',\n",
        "       'contracts44TotalCount', 'contracts44TotalSum',\n",
        "       'contracts223TotalCount', 'contracts223TotalSum',\n",
        "       'contracts94TotalCount', 'contracts94TotalSum', 'registrDate',\n",
        "        'opfCode', 'okvedCode', 'liquidDate', 'okvedID',\n",
        "       'registrDateYear', 'liquidDateYear'], axis=1)\n",
        "\n",
        "df_3['TotalCount'] = df_3['grantsTotalCount'] +df_3['fedSubsidiesTotalCount']\n",
        "df_3['factSupport'] = df_3['TotalCount'].apply(bools1)"
      ],
      "metadata": {
        "id": "Pp1fYY_23XUW"
      },
      "execution_count": 24,
      "outputs": []
    },
    {
      "cell_type": "code",
      "source": [
        "#не получали гос. финансирование\n",
        "without_fin = df_3[df_3['TotalCount'] == 0]['opfName'].unique()\n"
      ],
      "metadata": {
        "id": "rnY0jB5m6du6"
      },
      "execution_count": null,
      "outputs": []
    },
    {
      "cell_type": "code",
      "source": [
        "with_fin = df_3[df_3['TotalCount'] >= 0]  \n",
        "with_fin.head(1)"
      ],
      "metadata": {
        "id": "40W9AGQX84I3"
      },
      "execution_count": null,
      "outputs": []
    },
    {
      "cell_type": "code",
      "source": [
        "agg_func_math = {'factSupport': ['sum', 'count']}\n",
        "df = with_fin.groupby(['opfName'],group_keys=False).agg(agg_func_math).reset_index()\n",
        "df.columns = df.columns.map('|'.join).str.strip('|')\n",
        "df['coef'] = round(df['factSupport|sum'] / df['factSupport|count'], 4)\n",
        "df.columns = ['Деятельность по ОПФ', 'Кол-во орг. получавших гранты/субсидии','Количество организаций', 'Доля орг. получающих гранты/субсидии']\n",
        "t = df.sort_values(by= 'Кол-во орг. получавших гранты/субсидии', ascending=False)\n",
        "t.head(15)"
      ],
      "metadata": {
        "id": "S5ZpK1o0-4uT"
      },
      "execution_count": null,
      "outputs": []
    },
    {
      "cell_type": "code",
      "source": [
        "##по ОКВЕД для ОПФ \"общественная организация\"\n",
        "df_unknown = with_fin[with_fin['opfName'] == 'Общественные организации']\n",
        "\n",
        "df_org = df_unknown.groupby(['okvedName'],group_keys=False).agg(agg_func_math).reset_index()\n",
        "df_org.columns = df_org.columns.map('|'.join).str.strip('|')\n",
        "df_org['coef'] = df_org['factSupport|sum'] / df_org['factSupport|count']\n",
        "df_org.columns = ['Деятельность по ОКВЭД', 'Кол-во орг. получавших гранты/субсидии ','Количество организаций', 'Доля орг. получающих гранты/субсидии']\n",
        "df_org.sort_values(by= 'Количество организаций', ascending=False)"
      ],
      "metadata": {
        "id": "lNHbYlhq3YyG"
      },
      "execution_count": null,
      "outputs": []
    },
    {
      "cell_type": "markdown",
      "source": [
        "#### Выгрузка обработанных на google-диск"
      ],
      "metadata": {
        "id": "sj19n3pj--Qp"
      }
    },
    {
      "cell_type": "code",
      "source": [
        "#по ОПФ\n",
        "#drive.mount('drive', force_remount=True)\n",
        "#df.to_csv('zadanie3.csv')\n",
        "#!cp zadanie3.csv \"drive/My Drive/\""
      ],
      "metadata": {
        "id": "Q6MKsyE8Cqfb"
      },
      "execution_count": null,
      "outputs": []
    },
    {
      "cell_type": "code",
      "source": [
        "#по ОКВЕД для ОПФ \"общественная организация\"\n",
        "#drive.mount('drive', force_remount=True)\n",
        "#df_org.to_csv('zadanie3-1.csv')\n",
        "#!cp zadanie3-1.csv \"drive/My Drive/\""
      ],
      "metadata": {
        "id": "oAMMm4msYrIz"
      },
      "execution_count": null,
      "outputs": []
    },
    {
      "cell_type": "markdown",
      "source": [
        "##файл от Бориса к заданию3 "
      ],
      "metadata": {
        "id": "Acq3mYbv92yD"
      }
    },
    {
      "cell_type": "code",
      "source": [
        "! gdown --id  1RmtedZ-Br7BtiUqTjIUEkJdQ7eOBeW52"
      ],
      "metadata": {
        "colab": {
          "base_uri": "https://localhost:8080/"
        },
        "id": "UqSV63IL-ApX",
        "outputId": "06dde81a-c793-4ee2-b43b-928909bf8ee3"
      },
      "execution_count": 32,
      "outputs": [
        {
          "output_type": "stream",
          "name": "stdout",
          "text": [
            "/usr/local/lib/python3.7/dist-packages/gdown/cli.py:131: FutureWarning: Option `--id` was deprecated in version 4.3.1 and will be removed in 5.0. You don't need to pass it anymore to use a file ID.\n",
            "  category=FutureWarning,\n",
            "Downloading...\n",
            "From: https://drive.google.com/uc?id=1RmtedZ-Br7BtiUqTjIUEkJdQ7eOBeW52\n",
            "To: /content/ot_borisa_r_zadaniu_3_format - ot_borisa_r_zadaniu_3.csv\n",
            "100% 24.0k/24.0k [00:00<00:00, 24.0MB/s]\n"
          ]
        }
      ]
    },
    {
      "cell_type": "code",
      "source": [
        "\n",
        "df = pd.read_csv('/content/ot_borisa_r_zadaniu_3_format - ot_borisa_r_zadaniu_3.csv')\n",
        "\n",
        "\n",
        "t = df.groupby('Unnamed: 0').sum()\n",
        "t.head(10)"
      ],
      "metadata": {
        "colab": {
          "base_uri": "https://localhost:8080/",
          "height": 753
        },
        "id": "QQs2yegr-y9L",
        "outputId": "a218ea9e-f33f-4b8c-94ec-4c5dc158ed83"
      },
      "execution_count": 33,
      "outputs": [
        {
          "output_type": "execute_result",
          "data": {
            "text/plain": [
              "                                                   grantsTotalCount  \\\n",
              "Unnamed: 0                                                            \n",
              "Автономные некоммерческие организации                          4249   \n",
              "Благотворительные и иные фонды                                 2909   \n",
              "Государственные корпорации                                        0   \n",
              "Иные некоммерческие организации                                  53   \n",
              "Некоммерческие партнерства                                      627   \n",
              "Общественные и религиозные организации                        10693   \n",
              "Объединения юридических лиц: ассоциация и союз                 1089   \n",
              "Потребительские кооперативы                                       1   \n",
              "Садоводческие, огороднические, дачные объединения                 2   \n",
              "Территориальные общественные самоуправления                     101   \n",
              "\n",
              "                                                   grantsTotalSum  \\\n",
              "Unnamed: 0                                                          \n",
              "Автономные некоммерческие организации                  9836855635   \n",
              "Благотворительные и иные фонды                         8049367857   \n",
              "Государственные корпорации                                      0   \n",
              "Иные некоммерческие организации                         508680886   \n",
              "Некоммерческие партнерства                             1761167967   \n",
              "Общественные и религиозные организации                20197321763   \n",
              "Объединения юридических лиц: ассоциация и союз         3015669851   \n",
              "Потребительские кооперативы                                424900   \n",
              "Садоводческие, огороднические, дачные объединения         2700000   \n",
              "Территориальные общественные самоуправления              51043275   \n",
              "\n",
              "                                                   fedSubsidiesTotalCount  \\\n",
              "Unnamed: 0                                                                  \n",
              "Автономные некоммерческие организации                                2773   \n",
              "Благотворительные и иные фонды                                        871   \n",
              "Государственные корпорации                                            117   \n",
              "Иные некоммерческие организации                                        46   \n",
              "Некоммерческие партнерства                                            299   \n",
              "Общественные и религиозные организации                               1911   \n",
              "Объединения юридических лиц: ассоциация и союз                        450   \n",
              "Потребительские кооперативы                                           199   \n",
              "Садоводческие, огороднические, дачные объединения                     193   \n",
              "Территориальные общественные самоуправления                             0   \n",
              "\n",
              "                                                   fedSubsidiesTotalSum  \\\n",
              "Unnamed: 0                                                                \n",
              "Автономные некоммерческие организации                      301257840430   \n",
              "Благотворительные и иные фонды                             506160711806   \n",
              "Государственные корпорации                                 752142552285   \n",
              "Иные некоммерческие организации                              2304718050   \n",
              "Некоммерческие партнерства                                  34707361689   \n",
              "Общественные и религиозные организации                     141337459430   \n",
              "Объединения юридических лиц: ассоциация и союз              30740672469   \n",
              "Потребительские кооперативы                               1229871615265   \n",
              "Садоводческие, огороднические, дачные объединения             260629822   \n",
              "Территориальные общественные самоуправления                           0   \n",
              "\n",
              "                                                   contractsTotalCount  \\\n",
              "Unnamed: 0                                                               \n",
              "Автономные некоммерческие организации                            96677   \n",
              "Благотворительные и иные фонды                                   15686   \n",
              "Государственные корпорации                                         220   \n",
              "Иные некоммерческие организации                                    501   \n",
              "Некоммерческие партнерства                                       13820   \n",
              "Общественные и религиозные организации                           62098   \n",
              "Объединения юридических лиц: ассоциация и союз                   13349   \n",
              "Потребительские кооперативы                                      48307   \n",
              "Садоводческие, огороднические, дачные объединения                19910   \n",
              "Территориальные общественные самоуправления                       1251   \n",
              "\n",
              "                                                   contractsTotalSum  \\\n",
              "Unnamed: 0                                                             \n",
              "Автономные некоммерческие организации                   153002888549   \n",
              "Благотворительные и иные фонды                           94181297764   \n",
              "Государственные корпорации                               97117449872   \n",
              "Иные некоммерческие организации                           1917872982   \n",
              "Некоммерческие партнерства                               34035808620   \n",
              "Общественные и религиозные организации                   70848834309   \n",
              "Объединения юридических лиц: ассоциация и союз           32830435032   \n",
              "Потребительские кооперативы                              55698290539   \n",
              "Садоводческие, огороднические, дачные объединения         8297677836   \n",
              "Территориальные общественные самоуправления               2041808645   \n",
              "\n",
              "                                                   quantityGrantsSub  \n",
              "Unnamed: 0                                                            \n",
              "Автономные некоммерческие организации                           7022  \n",
              "Благотворительные и иные фонды                                  3780  \n",
              "Государственные корпорации                                       117  \n",
              "Иные некоммерческие организации                                   99  \n",
              "Некоммерческие партнерства                                       926  \n",
              "Общественные и религиозные организации                         12604  \n",
              "Объединения юридических лиц: ассоциация и союз                  1539  \n",
              "Потребительские кооперативы                                      200  \n",
              "Садоводческие, огороднические, дачные объединения                195  \n",
              "Территориальные общественные самоуправления                      101  "
            ],
            "text/html": [
              "\n",
              "  <div id=\"df-d32cd6dc-f591-4e9c-83db-255c3edd9cf4\">\n",
              "    <div class=\"colab-df-container\">\n",
              "      <div>\n",
              "<style scoped>\n",
              "    .dataframe tbody tr th:only-of-type {\n",
              "        vertical-align: middle;\n",
              "    }\n",
              "\n",
              "    .dataframe tbody tr th {\n",
              "        vertical-align: top;\n",
              "    }\n",
              "\n",
              "    .dataframe thead th {\n",
              "        text-align: right;\n",
              "    }\n",
              "</style>\n",
              "<table border=\"1\" class=\"dataframe\">\n",
              "  <thead>\n",
              "    <tr style=\"text-align: right;\">\n",
              "      <th></th>\n",
              "      <th>grantsTotalCount</th>\n",
              "      <th>grantsTotalSum</th>\n",
              "      <th>fedSubsidiesTotalCount</th>\n",
              "      <th>fedSubsidiesTotalSum</th>\n",
              "      <th>contractsTotalCount</th>\n",
              "      <th>contractsTotalSum</th>\n",
              "      <th>quantityGrantsSub</th>\n",
              "    </tr>\n",
              "    <tr>\n",
              "      <th>Unnamed: 0</th>\n",
              "      <th></th>\n",
              "      <th></th>\n",
              "      <th></th>\n",
              "      <th></th>\n",
              "      <th></th>\n",
              "      <th></th>\n",
              "      <th></th>\n",
              "    </tr>\n",
              "  </thead>\n",
              "  <tbody>\n",
              "    <tr>\n",
              "      <th>Автономные некоммерческие организации</th>\n",
              "      <td>4249</td>\n",
              "      <td>9836855635</td>\n",
              "      <td>2773</td>\n",
              "      <td>301257840430</td>\n",
              "      <td>96677</td>\n",
              "      <td>153002888549</td>\n",
              "      <td>7022</td>\n",
              "    </tr>\n",
              "    <tr>\n",
              "      <th>Благотворительные и иные фонды</th>\n",
              "      <td>2909</td>\n",
              "      <td>8049367857</td>\n",
              "      <td>871</td>\n",
              "      <td>506160711806</td>\n",
              "      <td>15686</td>\n",
              "      <td>94181297764</td>\n",
              "      <td>3780</td>\n",
              "    </tr>\n",
              "    <tr>\n",
              "      <th>Государственные корпорации</th>\n",
              "      <td>0</td>\n",
              "      <td>0</td>\n",
              "      <td>117</td>\n",
              "      <td>752142552285</td>\n",
              "      <td>220</td>\n",
              "      <td>97117449872</td>\n",
              "      <td>117</td>\n",
              "    </tr>\n",
              "    <tr>\n",
              "      <th>Иные некоммерческие организации</th>\n",
              "      <td>53</td>\n",
              "      <td>508680886</td>\n",
              "      <td>46</td>\n",
              "      <td>2304718050</td>\n",
              "      <td>501</td>\n",
              "      <td>1917872982</td>\n",
              "      <td>99</td>\n",
              "    </tr>\n",
              "    <tr>\n",
              "      <th>Некоммерческие партнерства</th>\n",
              "      <td>627</td>\n",
              "      <td>1761167967</td>\n",
              "      <td>299</td>\n",
              "      <td>34707361689</td>\n",
              "      <td>13820</td>\n",
              "      <td>34035808620</td>\n",
              "      <td>926</td>\n",
              "    </tr>\n",
              "    <tr>\n",
              "      <th>Общественные и религиозные организации</th>\n",
              "      <td>10693</td>\n",
              "      <td>20197321763</td>\n",
              "      <td>1911</td>\n",
              "      <td>141337459430</td>\n",
              "      <td>62098</td>\n",
              "      <td>70848834309</td>\n",
              "      <td>12604</td>\n",
              "    </tr>\n",
              "    <tr>\n",
              "      <th>Объединения юридических лиц: ассоциация и союз</th>\n",
              "      <td>1089</td>\n",
              "      <td>3015669851</td>\n",
              "      <td>450</td>\n",
              "      <td>30740672469</td>\n",
              "      <td>13349</td>\n",
              "      <td>32830435032</td>\n",
              "      <td>1539</td>\n",
              "    </tr>\n",
              "    <tr>\n",
              "      <th>Потребительские кооперативы</th>\n",
              "      <td>1</td>\n",
              "      <td>424900</td>\n",
              "      <td>199</td>\n",
              "      <td>1229871615265</td>\n",
              "      <td>48307</td>\n",
              "      <td>55698290539</td>\n",
              "      <td>200</td>\n",
              "    </tr>\n",
              "    <tr>\n",
              "      <th>Садоводческие, огороднические, дачные объединения</th>\n",
              "      <td>2</td>\n",
              "      <td>2700000</td>\n",
              "      <td>193</td>\n",
              "      <td>260629822</td>\n",
              "      <td>19910</td>\n",
              "      <td>8297677836</td>\n",
              "      <td>195</td>\n",
              "    </tr>\n",
              "    <tr>\n",
              "      <th>Территориальные общественные самоуправления</th>\n",
              "      <td>101</td>\n",
              "      <td>51043275</td>\n",
              "      <td>0</td>\n",
              "      <td>0</td>\n",
              "      <td>1251</td>\n",
              "      <td>2041808645</td>\n",
              "      <td>101</td>\n",
              "    </tr>\n",
              "  </tbody>\n",
              "</table>\n",
              "</div>\n",
              "      <button class=\"colab-df-convert\" onclick=\"convertToInteractive('df-d32cd6dc-f591-4e9c-83db-255c3edd9cf4')\"\n",
              "              title=\"Convert this dataframe to an interactive table.\"\n",
              "              style=\"display:none;\">\n",
              "        \n",
              "  <svg xmlns=\"http://www.w3.org/2000/svg\" height=\"24px\"viewBox=\"0 0 24 24\"\n",
              "       width=\"24px\">\n",
              "    <path d=\"M0 0h24v24H0V0z\" fill=\"none\"/>\n",
              "    <path d=\"M18.56 5.44l.94 2.06.94-2.06 2.06-.94-2.06-.94-.94-2.06-.94 2.06-2.06.94zm-11 1L8.5 8.5l.94-2.06 2.06-.94-2.06-.94L8.5 2.5l-.94 2.06-2.06.94zm10 10l.94 2.06.94-2.06 2.06-.94-2.06-.94-.94-2.06-.94 2.06-2.06.94z\"/><path d=\"M17.41 7.96l-1.37-1.37c-.4-.4-.92-.59-1.43-.59-.52 0-1.04.2-1.43.59L10.3 9.45l-7.72 7.72c-.78.78-.78 2.05 0 2.83L4 21.41c.39.39.9.59 1.41.59.51 0 1.02-.2 1.41-.59l7.78-7.78 2.81-2.81c.8-.78.8-2.07 0-2.86zM5.41 20L4 18.59l7.72-7.72 1.47 1.35L5.41 20z\"/>\n",
              "  </svg>\n",
              "      </button>\n",
              "      \n",
              "  <style>\n",
              "    .colab-df-container {\n",
              "      display:flex;\n",
              "      flex-wrap:wrap;\n",
              "      gap: 12px;\n",
              "    }\n",
              "\n",
              "    .colab-df-convert {\n",
              "      background-color: #E8F0FE;\n",
              "      border: none;\n",
              "      border-radius: 50%;\n",
              "      cursor: pointer;\n",
              "      display: none;\n",
              "      fill: #1967D2;\n",
              "      height: 32px;\n",
              "      padding: 0 0 0 0;\n",
              "      width: 32px;\n",
              "    }\n",
              "\n",
              "    .colab-df-convert:hover {\n",
              "      background-color: #E2EBFA;\n",
              "      box-shadow: 0px 1px 2px rgba(60, 64, 67, 0.3), 0px 1px 3px 1px rgba(60, 64, 67, 0.15);\n",
              "      fill: #174EA6;\n",
              "    }\n",
              "\n",
              "    [theme=dark] .colab-df-convert {\n",
              "      background-color: #3B4455;\n",
              "      fill: #D2E3FC;\n",
              "    }\n",
              "\n",
              "    [theme=dark] .colab-df-convert:hover {\n",
              "      background-color: #434B5C;\n",
              "      box-shadow: 0px 1px 3px 1px rgba(0, 0, 0, 0.15);\n",
              "      filter: drop-shadow(0px 1px 2px rgba(0, 0, 0, 0.3));\n",
              "      fill: #FFFFFF;\n",
              "    }\n",
              "  </style>\n",
              "\n",
              "      <script>\n",
              "        const buttonEl =\n",
              "          document.querySelector('#df-d32cd6dc-f591-4e9c-83db-255c3edd9cf4 button.colab-df-convert');\n",
              "        buttonEl.style.display =\n",
              "          google.colab.kernel.accessAllowed ? 'block' : 'none';\n",
              "\n",
              "        async function convertToInteractive(key) {\n",
              "          const element = document.querySelector('#df-d32cd6dc-f591-4e9c-83db-255c3edd9cf4');\n",
              "          const dataTable =\n",
              "            await google.colab.kernel.invokeFunction('convertToInteractive',\n",
              "                                                     [key], {});\n",
              "          if (!dataTable) return;\n",
              "\n",
              "          const docLinkHtml = 'Like what you see? Visit the ' +\n",
              "            '<a target=\"_blank\" href=https://colab.research.google.com/notebooks/data_table.ipynb>data table notebook</a>'\n",
              "            + ' to learn more about interactive tables.';\n",
              "          element.innerHTML = '';\n",
              "          dataTable['output_type'] = 'display_data';\n",
              "          await google.colab.output.renderOutput(dataTable, element);\n",
              "          const docLink = document.createElement('div');\n",
              "          docLink.innerHTML = docLinkHtml;\n",
              "          element.appendChild(docLink);\n",
              "        }\n",
              "      </script>\n",
              "    </div>\n",
              "  </div>\n",
              "  "
            ]
          },
          "metadata": {},
          "execution_count": 33
        }
      ]
    },
    {
      "cell_type": "code",
      "source": [
        "drive.mount('drive', force_remount=True)\n",
        "t.to_csv('zadanie3-2.csv')\n",
        "!cp zadanie3-2.csv \"drive/My Drive/\""
      ],
      "metadata": {
        "colab": {
          "base_uri": "https://localhost:8080/"
        },
        "id": "QbzL_GN-H5GN",
        "outputId": "5559baec-2275-42e8-e348-a3c8028884c9"
      },
      "execution_count": 34,
      "outputs": [
        {
          "output_type": "stream",
          "name": "stdout",
          "text": [
            "Mounted at drive\n"
          ]
        }
      ]
    }
  ]
}